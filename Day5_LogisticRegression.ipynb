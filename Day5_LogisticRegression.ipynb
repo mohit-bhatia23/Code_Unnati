{
 "cells": [
  {
   "cell_type": "markdown",
   "id": "ca471b2b",
   "metadata": {},
   "source": [
    "# Exercise 1 Logistic Regression"
   ]
  },
  {
   "cell_type": "code",
   "execution_count": 2,
   "id": "618e37c3",
   "metadata": {},
   "outputs": [],
   "source": [
    "import warnings\n",
    "warnings.filterwarnings(\"ignore\")\n",
    "warnings.simplefilter(action='ignore', category=FutureWarning)"
   ]
  },
  {
   "cell_type": "code",
   "execution_count": 3,
   "id": "9d403a99",
   "metadata": {},
   "outputs": [],
   "source": [
    "import pandas as pd\n",
    "from matplotlib import pyplot as plt\n",
    "import numpy as np\n",
    "from sklearn.linear_model import LogisticRegression"
   ]
  },
  {
   "cell_type": "code",
   "execution_count": 11,
   "id": "e4fc7b35",
   "metadata": {},
   "outputs": [
    {
     "name": "stdout",
     "output_type": "stream",
     "text": [
      "     tenure   age  address  income   ed  employ  equip  callcard  wireless  \\\n",
      "0      11.0  33.0      7.0   136.0  5.0     5.0    0.0       1.0       1.0   \n",
      "1      33.0  33.0     12.0    33.0  2.0     0.0    0.0       0.0       0.0   \n",
      "2      23.0  30.0      9.0    30.0  1.0     2.0    0.0       0.0       0.0   \n",
      "3      38.0  35.0      5.0    76.0  2.0    10.0    1.0       1.0       1.0   \n",
      "4       7.0  35.0     14.0    80.0  2.0    15.0    0.0       1.0       0.0   \n",
      "..      ...   ...      ...     ...  ...     ...    ...       ...       ...   \n",
      "195    55.0  44.0     24.0    83.0  1.0    23.0    0.0       1.0       0.0   \n",
      "196    34.0  23.0      3.0    24.0  1.0     7.0    0.0       1.0       0.0   \n",
      "197     6.0  32.0     10.0    47.0  1.0    10.0    0.0       1.0       0.0   \n",
      "198    24.0  30.0      0.0    25.0  4.0     5.0    0.0       1.0       1.0   \n",
      "199    61.0  50.0     16.0   190.0  2.0    22.0    1.0       1.0       1.0   \n",
      "\n",
      "     longmon  ...  pager  internet  callwait  confer  ebill  loglong  logtoll  \\\n",
      "0       4.40  ...    1.0       0.0       1.0     1.0    0.0    1.482    3.033   \n",
      "1       9.45  ...    0.0       0.0       0.0     0.0    0.0    2.246    3.240   \n",
      "2       6.30  ...    0.0       0.0       0.0     1.0    0.0    1.841    3.240   \n",
      "3       6.05  ...    1.0       1.0       1.0     1.0    1.0    1.800    3.807   \n",
      "4       7.10  ...    0.0       0.0       1.0     1.0    0.0    1.960    3.091   \n",
      "..       ...  ...    ...       ...       ...     ...    ...      ...      ...   \n",
      "195    17.35  ...    0.0       0.0       0.0     1.0    0.0    2.854    3.199   \n",
      "196     6.00  ...    0.0       0.0       1.0     1.0    0.0    1.792    3.332   \n",
      "197     3.85  ...    0.0       0.0       1.0     1.0    0.0    1.348    3.168   \n",
      "198     8.70  ...    1.0       1.0       1.0     1.0    1.0    2.163    3.866   \n",
      "199    16.85  ...    0.0       1.0       0.0     0.0    1.0    2.824    3.240   \n",
      "\n",
      "     lninc  custcat  churn  \n",
      "0    4.913      4.0    1.0  \n",
      "1    3.497      1.0    1.0  \n",
      "2    3.401      3.0    0.0  \n",
      "3    4.331      4.0    0.0  \n",
      "4    4.382      3.0    0.0  \n",
      "..     ...      ...    ...  \n",
      "195  4.419      3.0    0.0  \n",
      "196  3.178      3.0    0.0  \n",
      "197  3.850      3.0    0.0  \n",
      "198  3.219      4.0    1.0  \n",
      "199  5.247      2.0    0.0  \n",
      "\n",
      "[200 rows x 28 columns]\n"
     ]
    }
   ],
   "source": [
    "import pandas as pd\n",
    "\n",
    "# Provide the correct URL to the CSV file\n",
    "url = 'https://raw.githubusercontent.com/Code-Unnati/Advance-Course/master/Module-1/Unit-2/Unit-2.2/ChurnData.csv'\n",
    "\n",
    "# Read the CSV file into a DataFrame\n",
    "churn_df = pd.read_csv(url)\n",
    "\n",
    "# Print the DataFrame\n",
    "print(churn_df)"
   ]
  },
  {
   "cell_type": "code",
   "execution_count": 15,
   "id": "c3380fe5",
   "metadata": {},
   "outputs": [
    {
     "data": {
      "image/png": "[encoded data removed]",
      "text/plain": [
       "<Figure size 640x480 with 1 Axes>"
      ]
     },
     "metadata": {},
     "output_type": "display_data"
    }
   ],
   "source": [
    "#plotting scatter plot between age vs income\n",
    "import pandas as pd\n",
    "import matplotlib.pyplot as plt\n",
    "\n",
    "# Provide the correct URL to the CSV file\n",
    "url = 'https://raw.githubusercontent.com/Code-Unnati/Advance-Course/master/Module-1/Unit-2/Unit-2.2/ChurnData.csv'\n",
    "\n",
    "# Read the CSV file into a DataFrame\n",
    "churn_df = pd.read_csv(url)\n",
    "\n",
    "# Create a scatter plot\n",
    "plt.scatter(churn_df['age'], churn_df['income'])\n",
    "plt.title('age vs income')\n",
    "plt.xlabel('age')\n",
    "plt.ylabel('income')\n",
    "plt.show()\n"
   ]
  },
  {
   "cell_type": "code",
   "execution_count": 14,
   "id": "c5b004c2",
   "metadata": {},
   "outputs": [
    {
     "name": "stdout",
     "output_type": "stream",
     "text": [
      "(200, 10)\n"
     ]
    },
    {
     "data": {
      "text/html": [
       "<div>\n",
       "<style scoped>\n",
       "    .dataframe tbody tr th:only-of-type {\n",
       "        vertical-align: middle;\n",
       "    }\n",
       "\n",
       "    .dataframe tbody tr th {\n",
       "        vertical-align: top;\n",
       "    }\n",
       "\n",
       "    .dataframe thead th {\n",
       "        text-align: right;\n",
       "    }\n",
       "</style>\n",
       "<table border=\"1\" class=\"dataframe\">\n",
       "  <thead>\n",
       "    <tr style=\"text-align: right;\">\n",
       "      <th></th>\n",
       "      <th>tenure</th>\n",
       "      <th>age</th>\n",
       "      <th>address</th>\n",
       "      <th>income</th>\n",
       "      <th>ed</th>\n",
       "      <th>employ</th>\n",
       "      <th>equip</th>\n",
       "      <th>callcard</th>\n",
       "      <th>wireless</th>\n",
       "      <th>churn</th>\n",
       "    </tr>\n",
       "  </thead>\n",
       "  <tbody>\n",
       "    <tr>\n",
       "      <th>0</th>\n",
       "      <td>11.0</td>\n",
       "      <td>33.0</td>\n",
       "      <td>7.0</td>\n",
       "      <td>136.0</td>\n",
       "      <td>5.0</td>\n",
       "      <td>5.0</td>\n",
       "      <td>0.0</td>\n",
       "      <td>1.0</td>\n",
       "      <td>1.0</td>\n",
       "      <td>1</td>\n",
       "    </tr>\n",
       "    <tr>\n",
       "      <th>1</th>\n",
       "      <td>33.0</td>\n",
       "      <td>33.0</td>\n",
       "      <td>12.0</td>\n",
       "      <td>33.0</td>\n",
       "      <td>2.0</td>\n",
       "      <td>0.0</td>\n",
       "      <td>0.0</td>\n",
       "      <td>0.0</td>\n",
       "      <td>0.0</td>\n",
       "      <td>1</td>\n",
       "    </tr>\n",
       "    <tr>\n",
       "      <th>2</th>\n",
       "      <td>23.0</td>\n",
       "      <td>30.0</td>\n",
       "      <td>9.0</td>\n",
       "      <td>30.0</td>\n",
       "      <td>1.0</td>\n",
       "      <td>2.0</td>\n",
       "      <td>0.0</td>\n",
       "      <td>0.0</td>\n",
       "      <td>0.0</td>\n",
       "      <td>0</td>\n",
       "    </tr>\n",
       "    <tr>\n",
       "      <th>3</th>\n",
       "      <td>38.0</td>\n",
       "      <td>35.0</td>\n",
       "      <td>5.0</td>\n",
       "      <td>76.0</td>\n",
       "      <td>2.0</td>\n",
       "      <td>10.0</td>\n",
       "      <td>1.0</td>\n",
       "      <td>1.0</td>\n",
       "      <td>1.0</td>\n",
       "      <td>0</td>\n",
       "    </tr>\n",
       "    <tr>\n",
       "      <th>4</th>\n",
       "      <td>7.0</td>\n",
       "      <td>35.0</td>\n",
       "      <td>14.0</td>\n",
       "      <td>80.0</td>\n",
       "      <td>2.0</td>\n",
       "      <td>15.0</td>\n",
       "      <td>0.0</td>\n",
       "      <td>1.0</td>\n",
       "      <td>0.0</td>\n",
       "      <td>0</td>\n",
       "    </tr>\n",
       "  </tbody>\n",
       "</table>\n",
       "</div>"
      ],
      "text/plain": [
       "   tenure   age  address  income   ed  employ  equip  callcard  wireless  \\\n",
       "0    11.0  33.0      7.0   136.0  5.0     5.0    0.0       1.0       1.0   \n",
       "1    33.0  33.0     12.0    33.0  2.0     0.0    0.0       0.0       0.0   \n",
       "2    23.0  30.0      9.0    30.0  1.0     2.0    0.0       0.0       0.0   \n",
       "3    38.0  35.0      5.0    76.0  2.0    10.0    1.0       1.0       1.0   \n",
       "4     7.0  35.0     14.0    80.0  2.0    15.0    0.0       1.0       0.0   \n",
       "\n",
       "   churn  \n",
       "0      1  \n",
       "1      1  \n",
       "2      0  \n",
       "3      0  \n",
       "4      0  "
      ]
     },
     "execution_count": 14,
     "metadata": {},
     "output_type": "execute_result"
    }
   ],
   "source": [
    "churn_df = churn_df[['tenure', 'age', 'address', 'income', 'ed', 'employ', 'equip',   'callcard', 'wireless','churn']]\n",
    "churn_df['churn']=churn_df['churn'].astype('int')\n",
    "print(churn_df.shape)\n",
    "churn_df.head()"
   ]
  },
  {
   "cell_type": "code",
   "execution_count": 19,
   "id": "db1578f0",
   "metadata": {},
   "outputs": [],
   "source": [
    "#DataFrame to Numpy\n",
    "X=churn_df[['tenure', 'age', 'address', 'income', 'ed', 'employ', 'equip', 'callcard', 'wireless']]\n",
    "#X=X.drop(['tenure'],axis=1)\n",
    "Y=churn_df[['churn']]\n",
    "np_X=np.asanyarray(X)\n",
    "np_Y=np.asanyarray(Y)"
   ]
  },
  {
   "cell_type": "code",
   "execution_count": 20,
   "id": "ade661ed",
   "metadata": {},
   "outputs": [],
   "source": [
    "#Machine Learning Started .....\n",
    "from sklearn.preprocessing import StandardScaler ### Preprocess the data\n",
    "std_scl=StandardScaler()\n",
    "std_scl.fit(np_X)\n",
    "np_X_procs=std_scl.transform(np_X)"
   ]
  },
  {
   "cell_type": "code",
   "execution_count": 21,
   "id": "7fc0ac95",
   "metadata": {},
   "outputs": [
    {
     "name": "stdout",
     "output_type": "stream",
     "text": [
      "Train set: (160, 9) (160, 1)\n",
      "Test set: (40, 9) (40, 1)\n"
     ]
    }
   ],
   "source": [
    "#Train / Test Split\n",
    "from sklearn.model_selection import train_test_split\n",
    "X_train, X_test, Y_train, Y_test = train_test_split(np_X_procs, np_Y, test_size=0.2, random_state=4)\n",
    "print ('Train set:', X_train.shape,  Y_train.shape)\n",
    "print ('Test set:', X_test.shape,  Y_test.shape)"
   ]
  },
  {
   "cell_type": "code",
   "execution_count": 22,
   "id": "5c7c6816",
   "metadata": {},
   "outputs": [
    {
     "name": "stdout",
     "output_type": "stream",
     "text": [
      "[LibLinear]"
     ]
    }
   ],
   "source": [
    "#Model initialization & training\n",
    "model=LogisticRegression(C=0.01,solver='liblinear',verbose=1)\n",
    "model.fit(X_train,Y_train)\n",
    "Y_pred=model.predict(X_test)"
   ]
  },
  {
   "cell_type": "code",
   "execution_count": 23,
   "id": "5b1230b5",
   "metadata": {},
   "outputs": [
    {
     "name": "stdout",
     "output_type": "stream",
     "text": [
      "[0. 0. 0. 0. 0. 0. 1. 0. 1. 0. 0. 0. 0. 1. 0. 0. 1. 1. 1. 0. 0. 1. 0. 1.\n",
      " 1. 0. 1. 1. 1. 0. 0. 0. 1. 0. 0. 0. 1. 0. 0. 1.]\n",
      "\n",
      "\n",
      "[[0.58711718 0.41288282]\n",
      " [0.56650898 0.43349102]\n",
      " [0.5313329  0.4686671 ]\n",
      " [0.66722528 0.33277472]\n",
      " [0.53481231 0.46518769]\n",
      " [0.59508358 0.40491642]\n",
      " [0.49995014 0.50004986]\n",
      " [0.56532893 0.43467107]\n",
      " [0.39939231 0.60060769]\n",
      " [0.59368426 0.40631574]\n",
      " [0.54844546 0.45155454]\n",
      " [0.58957413 0.41042587]\n",
      " [0.52439771 0.47560229]\n",
      " [0.41344893 0.58655107]\n",
      " [0.68930146 0.31069854]\n",
      " [0.51576247 0.48423753]\n",
      " [0.4969602  0.5030398 ]\n",
      " [0.46038301 0.53961699]\n",
      " [0.47010467 0.52989533]\n",
      " [0.57170621 0.42829379]\n",
      " [0.50781873 0.49218127]\n",
      " [0.49802608 0.50197392]\n",
      " [0.66938224 0.33061776]\n",
      " [0.49625351 0.50374649]\n",
      " [0.47635919 0.52364081]\n",
      " [0.73040145 0.26959855]\n",
      " [0.45111513 0.54888487]\n",
      " [0.49187403 0.50812597]\n",
      " [0.4927476  0.5072524 ]\n",
      " [0.73618723 0.26381277]\n",
      " [0.70809718 0.29190282]\n",
      " [0.5549927  0.4450073 ]\n",
      " [0.40681176 0.59318824]\n",
      " [0.73720605 0.26279395]\n",
      " [0.6355682  0.3644318 ]\n",
      " [0.60354024 0.39645976]\n",
      " [0.45884949 0.54115051]\n",
      " [0.56829807 0.43170193]\n",
      " [0.68914305 0.31085695]\n",
      " [0.48020907 0.51979093]]\n"
     ]
    }
   ],
   "source": [
    "#Model Predictions\n",
    "Y_pred=model.predict(X_test)\n",
    "Y_pred_prob=model.predict_proba(X_test)\n",
    "print(Y_pred)\n",
    "print('\\n')\n",
    "print((Y_pred_prob))"
   ]
  },
  {
   "cell_type": "code",
   "execution_count": 24,
   "id": "2cf9734c",
   "metadata": {},
   "outputs": [
    {
     "name": "stdout",
     "output_type": "stream",
     "text": [
      "Model achieved a classification accuracy of:\t0.65\n",
      "\n",
      "\n",
      "Model Confusion Matrix\n",
      "\n",
      "\n",
      "Jaccard Similarity Score:\t0.36363636363636365\n"
     ]
    },
    {
     "data": {
      "image/png": "[encoded data removed]",
      "text/plain": [
       "<Figure size 640x480 with 2 Axes>"
      ]
     },
     "metadata": {},
     "output_type": "display_data"
    }
   ],
   "source": [
    "#Model Evaluation\n",
    "from sklearn.metrics import accuracy_score, confusion_matrix, ConfusionMatrixDisplay\n",
    "print(\"Model achieved a classification accuracy of:\",end='\\t')\n",
    "print(accuracy_score(Y_test,Y_pred))\n",
    "dsp=ConfusionMatrixDisplay(confusion_matrix(Y_test,Y_pred),display_labels=[\"Yes\",\"No\"])\n",
    "print('\\n')\n",
    "dsp.plot()\n",
    "print(\"Model Confusion Matrix\")\n",
    "from sklearn.metrics import jaccard_score\n",
    "print('\\n')\n",
    "print(\"Jaccard Similarity Score:\", end='\\t')\n",
    "print(jaccard_score(Y_test,Y_pred))"
   ]
  },
  {
   "cell_type": "code",
   "execution_count": 25,
   "id": "13611508",
   "metadata": {},
   "outputs": [
    {
     "name": "stdout",
     "output_type": "stream",
     "text": [
      "              precision    recall  f1-score   support\n",
      "\n",
      "         0.0       0.72      0.72      0.72        25\n",
      "         1.0       0.53      0.53      0.53        15\n",
      "\n",
      "    accuracy                           0.65        40\n",
      "   macro avg       0.63      0.63      0.63        40\n",
      "weighted avg       0.65      0.65      0.65        40\n",
      "\n"
     ]
    }
   ],
   "source": [
    "#Generate classification report\n",
    "from sklearn.metrics import classification_report\n",
    "print(classification_report(Y_test,Y_pred))"
   ]
  },
  {
   "cell_type": "code",
   "execution_count": 28,
   "id": "77cf2701",
   "metadata": {},
   "outputs": [
    {
     "name": "stdout",
     "output_type": "stream",
     "text": [
      "    species     island  bill_length_mm  bill_depth_mm  flipper_length_mm  \\\n",
      "0    Adelie  Torgersen            39.1           18.7              181.0   \n",
      "1    Adelie  Torgersen            39.5           17.4              186.0   \n",
      "2    Adelie  Torgersen            40.3           18.0              195.0   \n",
      "3    Adelie  Torgersen            36.7           19.3              193.0   \n",
      "4    Adelie  Torgersen            39.3           20.6              190.0   \n",
      "..      ...        ...             ...            ...                ...   \n",
      "269  Gentoo     Biscoe            47.2           13.7              214.0   \n",
      "270  Gentoo     Biscoe            46.8           14.3              215.0   \n",
      "271  Gentoo     Biscoe            50.4           15.7              222.0   \n",
      "272  Gentoo     Biscoe            45.2           14.8              212.0   \n",
      "273  Gentoo     Biscoe            49.9           16.1              213.0   \n",
      "\n",
      "     body_mass_g  year  \n",
      "0         3750.0  2007  \n",
      "1         3800.0  2007  \n",
      "2         3250.0  2007  \n",
      "3         3450.0  2007  \n",
      "4         3650.0  2007  \n",
      "..           ...   ...  \n",
      "269       4925.0  2009  \n",
      "270       4850.0  2009  \n",
      "271       5750.0  2009  \n",
      "272       5200.0  2009  \n",
      "273       5400.0  2009  \n",
      "\n",
      "[274 rows x 7 columns]\n",
      "    species     island  bill_length_mm  bill_depth_mm  flipper_length_mm  \\\n",
      "0    Adelie  Torgersen            39.1           18.7              181.0   \n",
      "1    Adelie  Torgersen            39.5           17.4              186.0   \n",
      "2    Adelie  Torgersen            40.3           18.0              195.0   \n",
      "3    Adelie  Torgersen            36.7           19.3              193.0   \n",
      "4    Adelie  Torgersen            39.3           20.6              190.0   \n",
      "..      ...        ...             ...            ...                ...   \n",
      "269  Gentoo     Biscoe            47.2           13.7              214.0   \n",
      "270  Gentoo     Biscoe            46.8           14.3              215.0   \n",
      "271  Gentoo     Biscoe            50.4           15.7              222.0   \n",
      "272  Gentoo     Biscoe            45.2           14.8              212.0   \n",
      "273  Gentoo     Biscoe            49.9           16.1              213.0   \n",
      "\n",
      "     body_mass_g  year  \n",
      "0         3750.0  2007  \n",
      "1         3800.0  2007  \n",
      "2         3250.0  2007  \n",
      "3         3450.0  2007  \n",
      "4         3650.0  2007  \n",
      "..           ...   ...  \n",
      "269       4925.0  2009  \n",
      "270       4850.0  2009  \n",
      "271       5750.0  2009  \n",
      "272       5200.0  2009  \n",
      "273       5400.0  2009  \n",
      "\n",
      "[274 rows x 7 columns]\n"
     ]
    }
   ],
   "source": [
    "import pandas as pd\n",
    "\n",
    "# Provide the correct URL to the CSV file\n",
    "url = 'https://raw.githubusercontent.com/mohit-bhatia23/Code_Unnati/main/penguins_binary_classification.csv'\n",
    "\n",
    "# Read the CSV file into a DataFrame\n",
    "churn_df = pd.read_csv(url)\n",
    "\n",
    "# Print the DataFrame\n",
    "print(churn_df)\n",
    "\n",
    "# Read the CSV file into a DataFrame\n",
    "churn_df = pd.read_csv(url)\n",
    "\n",
    "# Print the DataFrame\n",
    "print(churn_df)"
   ]
  },
  {
   "cell_type": "code",
   "execution_count": null,
   "id": "e03ffc7a",
   "metadata": {},
   "outputs": [],
   "source": []
  }
 ],
 "metadata": {
  "kernelspec": {
   "display_name": "Python 3 (ipykernel)",
   "language": "python",
   "name": "python3"
  },
  "language_info": {
   "codemirror_mode": {
    "name": "ipython",
    "version": 3
   },
   "file_extension": ".py",
   "mimetype": "text/x-python",
   "name": "python",
   "nbconvert_exporter": "python",
   "pygments_lexer": "ipython3",
   "version": "3.11.3"
  }
 },
 "nbformat": 4,
 "nbformat_minor": 5
}
